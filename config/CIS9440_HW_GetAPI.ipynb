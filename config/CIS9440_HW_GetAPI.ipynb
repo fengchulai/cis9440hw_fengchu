{
 "cells": [
  {
   "cell_type": "code",
   "execution_count": 2,
   "id": "a2e1643b",
   "metadata": {},
   "outputs": [
    {
     "name": "stdout",
     "output_type": "stream",
     "text": [
      "Collecting Flask\n",
      "  Using cached Flask-2.2.5-py3-none-any.whl (101 kB)\n",
      "Requirement already satisfied: Jinja2>=3.0 in c:\\users\\andrea\\anaconda3\\lib\\site-packages (from Flask) (3.0.3)\n",
      "Collecting Werkzeug>=2.2.2\n",
      "  Using cached Werkzeug-2.2.3-py3-none-any.whl (233 kB)\n",
      "Requirement already satisfied: click>=8.0 in c:\\users\\andrea\\anaconda3\\lib\\site-packages (from Flask) (8.0.4)\n",
      "Requirement already satisfied: importlib-metadata>=3.6.0 in c:\\users\\andrea\\anaconda3\\lib\\site-packages (from Flask) (6.7.0)\n",
      "Collecting itsdangerous>=2.0\n",
      "  Using cached itsdangerous-2.1.2-py3-none-any.whl (15 kB)\n",
      "Requirement already satisfied: colorama in c:\\users\\andrea\\anaconda3\\lib\\site-packages (from click>=8.0->Flask) (0.4.6)\n",
      "Requirement already satisfied: zipp>=0.5 in c:\\users\\andrea\\anaconda3\\lib\\site-packages (from importlib-metadata>=3.6.0->Flask) (3.11.0)\n",
      "Requirement already satisfied: typing-extensions>=3.6.4 in c:\\users\\andrea\\anaconda3\\lib\\site-packages (from importlib-metadata>=3.6.0->Flask) (4.7.1)\n",
      "Requirement already satisfied: MarkupSafe>=2.0 in c:\\users\\andrea\\anaconda3\\lib\\site-packages (from Jinja2>=3.0->Flask) (2.1.3)\n",
      "Installing collected packages: Werkzeug, itsdangerous, Flask\n",
      "Successfully installed Flask-2.2.5 Werkzeug-2.2.3 itsdangerous-2.1.2\n"
     ]
    },
    {
     "name": "stderr",
     "output_type": "stream",
     "text": [
      "WARNING: Ignoring invalid distribution -umpy (c:\\users\\andrea\\anaconda3\\lib\\site-packages)\n",
      "WARNING: Ignoring invalid distribution -umpy (c:\\users\\andrea\\anaconda3\\lib\\site-packages)\n",
      "WARNING: Ignoring invalid distribution -umpy (c:\\users\\andrea\\anaconda3\\lib\\site-packages)\n",
      "WARNING: Ignoring invalid distribution -umpy (c:\\users\\andrea\\anaconda3\\lib\\site-packages)\n",
      "WARNING: Ignoring invalid distribution -umpy (c:\\users\\andrea\\anaconda3\\lib\\site-packages)\n",
      "WARNING: Ignoring invalid distribution -umpy (c:\\users\\andrea\\anaconda3\\lib\\site-packages)\n",
      "WARNING: Ignoring invalid distribution -umpy (c:\\users\\andrea\\anaconda3\\lib\\site-packages)\n",
      "WARNING: Ignoring invalid distribution -umpy (c:\\users\\andrea\\anaconda3\\lib\\site-packages)\n",
      "WARNING: Ignoring invalid distribution -umpy (c:\\users\\andrea\\anaconda3\\lib\\site-packages)\n"
     ]
    }
   ],
   "source": [
    "!pip install Flask"
   ]
  },
  {
   "cell_type": "code",
   "execution_count": 4,
   "id": "e8c93298",
   "metadata": {},
   "outputs": [
    {
     "name": "stdout",
     "output_type": "stream",
     "text": [
      "Collecting snowflake-connector-python\n",
      "  Downloading snowflake_connector_python-3.0.4-cp37-cp37m-win_amd64.whl (10.7 MB)\n",
      "     ---------------------------------------- 10.7/10.7 MB 6.1 MB/s eta 0:00:00\n",
      "Requirement already satisfied: charset-normalizer<4,>=2 in c:\\users\\andrea\\anaconda3\\lib\\site-packages (from snowflake-connector-python) (3.2.0)\n",
      "Requirement already satisfied: cryptography<41.0.0,>=3.1.0 in c:\\users\\andrea\\anaconda3\\lib\\site-packages (from snowflake-connector-python) (39.0.1)\n",
      "Requirement already satisfied: pyjwt<3.0.0 in c:\\users\\andrea\\anaconda3\\lib\\site-packages (from snowflake-connector-python) (2.4.0)\n",
      "Requirement already satisfied: requests<3.0.0 in c:\\users\\andrea\\anaconda3\\lib\\site-packages (from snowflake-connector-python) (2.31.0)\n",
      "Requirement already satisfied: typing-extensions<5,>=4.3 in c:\\users\\andrea\\anaconda3\\lib\\site-packages (from snowflake-connector-python) (4.7.1)\n",
      "Collecting pycryptodomex!=3.5.0,<4.0.0,>=3.2\n",
      "  Downloading pycryptodomex-3.20.0-cp35-abi3-win_amd64.whl (1.8 MB)\n",
      "     ---------------------------------------- 1.8/1.8 MB 7.0 MB/s eta 0:00:00\n",
      "Requirement already satisfied: urllib3<1.27,>=1.21.1 in c:\\users\\andrea\\anaconda3\\lib\\site-packages (from snowflake-connector-python) (1.26.14)\n",
      "Requirement already satisfied: cffi<2.0.0,>=1.9 in c:\\users\\andrea\\anaconda3\\lib\\site-packages (from snowflake-connector-python) (1.15.1)\n",
      "Requirement already satisfied: certifi>=2017.4.17 in c:\\users\\andrea\\anaconda3\\lib\\site-packages (from snowflake-connector-python) (2022.12.7)\n",
      "Requirement already satisfied: importlib-metadata in c:\\users\\andrea\\anaconda3\\lib\\site-packages (from snowflake-connector-python) (6.7.0)\n",
      "Requirement already satisfied: pytz in c:\\users\\andrea\\anaconda3\\lib\\site-packages (from snowflake-connector-python) (2022.7)\n",
      "Collecting asn1crypto<2.0.0,>0.24.0\n",
      "  Downloading asn1crypto-1.5.1-py2.py3-none-any.whl (105 kB)\n",
      "     -------------------------------------- 105.0/105.0 kB 3.1 MB/s eta 0:00:00\n",
      "Collecting sortedcontainers>=2.4.0\n",
      "  Using cached sortedcontainers-2.4.0-py2.py3-none-any.whl (29 kB)\n",
      "Requirement already satisfied: filelock<4,>=3.5 in c:\\users\\andrea\\anaconda3\\lib\\site-packages (from snowflake-connector-python) (3.9.0)\n",
      "Requirement already satisfied: idna<4,>=2.5 in c:\\users\\andrea\\anaconda3\\lib\\site-packages (from snowflake-connector-python) (3.4)\n",
      "Requirement already satisfied: pyOpenSSL<24.0.0,>=16.2.0 in c:\\users\\andrea\\anaconda3\\lib\\site-packages (from snowflake-connector-python) (23.0.0)\n",
      "Collecting oscrypto<2.0.0\n",
      "  Downloading oscrypto-1.3.0-py2.py3-none-any.whl (194 kB)\n",
      "     -------------------------------------- 194.6/194.6 kB 3.9 MB/s eta 0:00:00\n",
      "Requirement already satisfied: packaging in c:\\users\\andrea\\anaconda3\\lib\\site-packages (from snowflake-connector-python) (23.1)\n",
      "Requirement already satisfied: pycparser in c:\\users\\andrea\\anaconda3\\lib\\site-packages (from cffi<2.0.0,>=1.9->snowflake-connector-python) (2.21)\n",
      "Requirement already satisfied: zipp>=0.5 in c:\\users\\andrea\\anaconda3\\lib\\site-packages (from importlib-metadata->snowflake-connector-python) (3.11.0)\n",
      "Installing collected packages: sortedcontainers, asn1crypto, pycryptodomex, oscrypto, snowflake-connector-python\n",
      "Successfully installed asn1crypto-1.5.1 oscrypto-1.3.0 pycryptodomex-3.20.0 snowflake-connector-python-3.0.4 sortedcontainers-2.4.0\n"
     ]
    },
    {
     "name": "stderr",
     "output_type": "stream",
     "text": [
      "WARNING: Ignoring invalid distribution -umpy (c:\\users\\andrea\\anaconda3\\lib\\site-packages)\n",
      "WARNING: Ignoring invalid distribution -umpy (c:\\users\\andrea\\anaconda3\\lib\\site-packages)\n",
      "WARNING: Ignoring invalid distribution -umpy (c:\\users\\andrea\\anaconda3\\lib\\site-packages)\n",
      "WARNING: Ignoring invalid distribution -umpy (c:\\users\\andrea\\anaconda3\\lib\\site-packages)\n",
      "WARNING: Ignoring invalid distribution -umpy (c:\\users\\andrea\\anaconda3\\lib\\site-packages)\n",
      "WARNING: Ignoring invalid distribution -umpy (c:\\users\\andrea\\anaconda3\\lib\\site-packages)\n",
      "WARNING: Ignoring invalid distribution -umpy (c:\\users\\andrea\\anaconda3\\lib\\site-packages)\n",
      "WARNING: Ignoring invalid distribution -umpy (c:\\users\\andrea\\anaconda3\\lib\\site-packages)\n",
      "WARNING: Ignoring invalid distribution -umpy (c:\\users\\andrea\\anaconda3\\lib\\site-packages)\n",
      "WARNING: Ignoring invalid distribution -umpy (c:\\users\\andrea\\anaconda3\\lib\\site-packages)\n",
      "WARNING: Ignoring invalid distribution -umpy (c:\\users\\andrea\\anaconda3\\lib\\site-packages)\n"
     ]
    }
   ],
   "source": [
    "!pip install snowflake-connector-python"
   ]
  },
  {
   "cell_type": "code",
   "execution_count": 5,
   "id": "bc93c4e8",
   "metadata": {
    "scrolled": false
   },
   "outputs": [
    {
     "name": "stderr",
     "output_type": "stream",
     "text": [
      "C:\\Users\\Andrea\\Anaconda3\\lib\\site-packages\\snowflake\\connector\\options.py:109: UserWarning: You have an incompatible version of 'pyarrow' installed (12.0.1), please install a version that adheres to: 'pyarrow<10.1.0,>=10.0.1; extra == \"pandas\"'\n",
      "  \"pyarrow\", installed_pyarrow_version, pandas_pyarrow_extra\n",
      "Failed to import ArrowResult. No Apache Arrow result set format can be used. ImportError: DLL load failed: The specified procedure could not be found.\n"
     ]
    }
   ],
   "source": [
    "from flask import Flask, jsonify\n",
    "import snowflake.connector"
   ]
  },
  {
   "cell_type": "code",
   "execution_count": 11,
   "id": "7b6ad5d0",
   "metadata": {},
   "outputs": [],
   "source": [
    "# Create Flask app object\n",
    "app = Flask(__name__)\n",
    "\n",
    "# Define endpoint to retrieve data\n",
    "@app.route('/api/data', methods=['GET'])\n",
    "def get_data():\n",
    "    # Snowflake connection parameters\n",
    "    conn_params = {\n",
    "        'account': 'CSA02248',\n",
    "        'user': 'fengchu',\n",
    "        'password': 'Cis9440baruch',\n",
    "        'warehouse': 'COMPUTE_WH',\n",
    "        'database': 'NYCPARKINGVIOLATION',\n",
    "        'schema': 'DBT_FLAI'\n",
    "    }\n",
    "\n",
    "    # Connect to Snowflake\n",
    "    conn = snowflake.connector.connect(**conn_params)\n",
    "\n",
    "    cursor = conn.cursor()\n",
    "    cursor.execute('SELECT * FROM your_table')\n",
    "    data = cursor.fetchall()\n",
    "    cursor.close()\n",
    "    conn.close()  # Close the connection after fetching data\n",
    "    return jsonify(data)\n",
    "\n"
   ]
  }
 ],
 "metadata": {
  "kernelspec": {
   "display_name": "Python 3 (ipykernel)",
   "language": "python",
   "name": "python3"
  },
  "language_info": {
   "codemirror_mode": {
    "name": "ipython",
    "version": 3
   },
   "file_extension": ".py",
   "mimetype": "text/x-python",
   "name": "python",
   "nbconvert_exporter": "python",
   "pygments_lexer": "ipython3",
   "version": "3.7.4"
  }
 },
 "nbformat": 4,
 "nbformat_minor": 5
}
